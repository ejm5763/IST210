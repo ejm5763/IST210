{
  "nbformat": 4,
  "nbformat_minor": 0,
  "metadata": {
    "colab": {
      "name": "IST210 Group Project 1.ipynb",
      "provenance": [],
      "authorship_tag": "ABX9TyMVCjE/mqSORgUXSCBBzh5+",
      "include_colab_link": true
    },
    "kernelspec": {
      "name": "python3",
      "display_name": "Python 3"
    }
  },
  "cells": [
    {
      "cell_type": "markdown",
      "metadata": {
        "id": "view-in-github",
        "colab_type": "text"
      },
      "source": [
        "<a href=\"https://colab.research.google.com/github/ejm5763/IST210/blob/master/IST210_Group_Project_1.ipynb\" target=\"_parent\"><img src=\"https://colab.research.google.com/assets/colab-badge.svg\" alt=\"Open In Colab\"/></a>"
      ]
    },
    {
      "cell_type": "markdown",
      "metadata": {
        "id": "MwMa_HdyuI6p",
        "colab_type": "text"
      },
      "source": [
        "**1. Restaurant**\n",
        "\n",
        "-This idea is unique from our other ideas since our other ideas don’t involve costs for things like ingredients that could fluctuate depending on where you buy them or the time of year.\n",
        "-We’re basing our data off of a day at a fast food restaurant chain like McDonald’s\n",
        "-A typical business interaction would be a cashier taking an order and putting it into the system where different data would be recorded such as time, order, price, etc. Then the order would be sent back to the kitchen where the order would be prepared and sent back out.\n",
        "-For our tables, we will have “ingredients”, “menu”, “transaction time”, “order”, and “employee”. The ingredients table is straightforward and contains information such as ingredient cost and amount in inventory. The menu table can include menu items, type of menu (breakfast, lunch, etc.), meal cost, meal type (combo), etc. The transaction time table will include the time, season, day and other specific information on when the order was placed. The order table includes the what the customer bought, the number of items they purchased, and the order type (dine-in, drive-thru, takeout, etc.) The employee table will have information like name, ID, job type,shift, and wage.\n",
        "-The goal for this project is to figure out which shift brings in the most money for the restaurant. To figure this out, we will mostly be using the menu, transaction time, and  employee tables. The menu table will contribute to reaching our goal since we will be able to see which menu items are being purchased the most and whether or not their prices are bringing in enough revenue in comparison to how much the ingredients cost to make it. The transaction time table will also be important in seeing what times are the busiest for the restaurant and whether seasons influence the amount of revenue. The employees table will also be important in reaching our goal so we can see what shift times employees are working and what their wages are during the shift which we can deduct from the revenue coming from the different orders.\n",
        "Diagram:\n"
      ]
    },
    {
      "cell_type": "markdown",
      "metadata": {
        "id": "kEEwxDsmvMUW",
        "colab_type": "text"
      },
      "source": [
        "![alt text](https://raw.githubusercontent.com/ejm5763/IST210/master/Restaurant.JPG)"
      ]
    },
    {
      "cell_type": "markdown",
      "metadata": {
        "id": "h7ULAfQRx1DU",
        "colab_type": "text"
      },
      "source": [
        "**2. Online gaming store (Steam)**\n",
        "\n",
        "-This idea is unique because services such as steam and origin allow you to play games, however, when buying them you do not own them. Another instance making this unique is that the interactions don’t happen face to face between people but rather online.  There are in-game purchases as well which adds another layer to where the money can go.\n",
        "-We are basing this model off of Steam, which is basically an online store for purchasing video games. \n",
        "-A typical business interaction for Steam would be a customer who already has an account logging in and purchasing a video game or extra in-game purchase directly from whatever game’s page on the Steam platform. The typical business day is atypical since there aren’t times where they close for the day or don’t work on the weekends, etc. However, there are times where steam can go down, but this only happens on rare occurrences. \n",
        "-The tables we will be using will be “Users”, “Steam”, “Games”, “In-app Purchases”, and “Hours”. The users table will get basic information about the user such as their ID, age range, and which operating system they’re using since some games don’t support all OS. The Steam table will include what games are being sold from Steam to the user, time stamps, and price of the game. The Games table will include whether it’s part of a series and its genre. The “In app purchases” table will include the price of the in-app purchase and what the purchase was. The “Hours” table will contain information regarding what each user’s hours logged are, which game it’s for, and individual gaming session times logged. \n",
        "-The goal is to find out more information on the typical Steam user and narrow down what games are bringing in the most revenue overall (including in-app purchases).\n",
        "\n",
        "Diagram:\n",
        "![alt text](https://raw.githubusercontent.com/ejm5763/IST210/master/Steam.JPG)\n"
      ]
    },
    {
      "cell_type": "markdown",
      "metadata": {
        "id": "mDrOwYOryK7N",
        "colab_type": "text"
      },
      "source": [
        "**3. Bookstore**\n",
        "-The Bookstore is unique because it sells many different types of items and attends to everybody’s needs.\n",
        "-We are borrowing from a business. Specifically we are going to format it around the PSU bookstore and we will set the tables around that. This business has a simple format that can be translated into 5 tables in order to maximize their efficiency as a store and to make as much money as possible \n",
        "-A typical day within the bookstore varies depending on what part of the year it is but we will just put them all together. The store is usually open from 8am to 7pm in the center of PSU at the Hub-Robeson Center. People can come in for all sorts of supplies. These include textbooks for classes, PSU merchandise, and school supplies. The typical interaction would be people asking for where they can find a certain item and an interaction between a customer and a cashier when a transaction is being made. Within this there are many labor costs and the costs of staying open the people have to be aware of.\n",
        "-The tables used would be, “Product and their price” this will look at a certain product within the bookstore,could be anything from a textbook, school supplies or apparel, and their price.”Customer” this will hold information about the customer, things like transaction history and their information “Highest selling items”This table will simply look at the items that sell the most in the store, knowing this information is crucial to how you run a store because you can improve and build upon this information to sell even more products. “Workers and their costs” this is important to figure out whether more sales are made with a certain amount of people working and to offset costs of the store.It will include names of workers, their numbers, how much they are getting paid, when they are working. ''Purchases ``this table will keep track of interactions and transactions of products, it will show times/date, how many items were purchased, for how much..\n",
        "-The goal is to figure out which products are the best selling and how we can make those products and others sell even more.\n",
        "Diagram:\n",
        "![alt text](https://raw.githubusercontent.com/ejm5763/IST210/master/Bookstore.JPG)\n"
      ]
    }
  ]
}