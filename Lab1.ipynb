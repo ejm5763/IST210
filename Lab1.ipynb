{
  "nbformat": 4,
  "nbformat_minor": 0,
  "metadata": {
    "colab": {
      "name": "Lab1.ipynb",
      "provenance": [],
      "collapsed_sections": [],
      "authorship_tag": "ABX9TyNd8LXGQAbO4px77TBFsxvd",
      "include_colab_link": true
    },
    "kernelspec": {
      "name": "python3",
      "display_name": "Python 3"
    }
  },
  "cells": [
    {
      "cell_type": "markdown",
      "metadata": {
        "id": "view-in-github",
        "colab_type": "text"
      },
      "source": [
        "<a href=\"https://colab.research.google.com/github/ejm5763/IST210/blob/master/Lab1.ipynb\" target=\"_parent\"><img src=\"https://colab.research.google.com/assets/colab-badge.svg\" alt=\"Open In Colab\"/></a>"
      ]
    },
    {
      "cell_type": "markdown",
      "metadata": {
        "id": "deSly2l2Fm72",
        "colab_type": "text"
      },
      "source": [
        "## Elizabeth Meier"
      ]
    },
    {
      "cell_type": "markdown",
      "metadata": {
        "id": "hvyGXPSPFvIm",
        "colab_type": "text"
      },
      "source": [
        "###IST Related Interests:\n",
        "*Programming\n",
        "*Usability Engineering\n",
        "*Machine Learning"
      ]
    },
    {
      "cell_type": "markdown",
      "metadata": {
        "id": "h-1FzuffGaSu",
        "colab_type": "text"
      },
      "source": [
        "###Future Job/Career:\n",
        "*Software Developer?"
      ]
    },
    {
      "cell_type": "markdown",
      "metadata": {
        "id": "3Gkj8Uv5Ifrb",
        "colab_type": "text"
      },
      "source": [
        "![alt text](https://raw.githubusercontent.com/ejm5763/IST210/master/introduction/ist210intro.png)"
      ]
    }
  ]
}