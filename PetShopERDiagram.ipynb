{
  "nbformat": 4,
  "nbformat_minor": 0,
  "metadata": {
    "colab": {
      "name": "PetShopERDiagram.ipynb",
      "provenance": [],
      "authorship_tag": "ABX9TyMX1aoy7okJPFCCkil/VX7D",
      "include_colab_link": true
    },
    "kernelspec": {
      "name": "python3",
      "display_name": "Python 3"
    }
  },
  "cells": [
    {
      "cell_type": "markdown",
      "metadata": {
        "id": "view-in-github",
        "colab_type": "text"
      },
      "source": [
        "<a href=\"https://colab.research.google.com/github/ejm5763/IST210/blob/master/PetShopERDiagram.ipynb\" target=\"_parent\"><img src=\"https://colab.research.google.com/assets/colab-badge.svg\" alt=\"Open In Colab\"/></a>"
      ]
    },
    {
      "cell_type": "markdown",
      "metadata": {
        "id": "0ruN1y--Po6b",
        "colab_type": "text"
      },
      "source": [
        "![alt text](https://raw.githubusercontent.com/ejm5763/IST210/master/introduction/Untitled%20Diagram.png)\n",
        "\n",
        "I decided for my 6 tables to be the following: Customer, Food Transaction, Animal Transaction, Food, Pet, and Enclosure. I decided to limit one customer to one purchase to prevent having to keep each item bought be accounted for each time and have it just as a total. Even though one customer can purchase multiple things in the one total purchase. For food transaction I have the relationship as \"comes from\" since the Food table is basically food inventory. For each food transaction there can be 1 to up to 5 items but throughout the day there can be 500 total transactions. Similar to the food and food transaction tables, the animal transaction and pet tables are related pretty similarly. Each animal transaction can have up to 8 pets but there can be a total of 1000 animal transactions held. For the pet and enclosure tables the relationships are 1 to many since I figured multiple pets would be able to live in a single enclosure in the pet shop such as fish in a tank or puppies in a play pen. In terms of attributes, the Loyalty ID is something a customer could get points for however many purchases they make at the pet shop which is why it's connected to food transaction and animal transaction. For the food transaction table I have connected it to the food table through a Food ID which could be a barcode that get scanned at the register. Similar to this the animal transaction table has a Pet ID attribute that could be a chip or collar that an animal has that gets scanned or something that is keeping track of the animal in the store. The enclosure table's primary key is Enclosure Type which can be tied to the Pet table since the enclosure type could be important for a particular animal/pet."
      ]
    }
  ]
}