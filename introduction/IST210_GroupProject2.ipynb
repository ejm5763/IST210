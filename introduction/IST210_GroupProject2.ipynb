{
  "nbformat": 4,
  "nbformat_minor": 0,
  "metadata": {
    "colab": {
      "name": "IST210 GroupProject2.ipynb",
      "provenance": []
    },
    "kernelspec": {
      "name": "python3",
      "display_name": "Python 3"
    }
  },
  "cells": [
    {
      "cell_type": "markdown",
      "metadata": {
        "id": "7PMQpc3lZsiQ",
        "colab_type": "text"
      },
      "source": [
        "![alt text](https://raw.githubusercontent.com/ejm5763/IST210/master/introduction/IST210%20Group%20Project%20Restaurant%20Data%20Model.png)\n",
        "\n",
        "We decided to make an ER diagram on our idea of what some of the relationships might look like for a restaurant. The tables being used are Employee, Order, Menu, Ingredients, and Transaction Time. The goal of our project is to determine which shift brings in the most money and so we will be mostly using the Employee, Menu, and Transaction Time tables. We chose to have a 1 to 1 relationship from the employee to order tables since one employee will be taking one order at a time, but from order to the employee table it will be 0 to 500 since an employee could take any range of orders between those numbers during their shift. The 0 to many relationships from the order table to the menu table are connected by how many items that a customer orders which can be 0 and up to 20. Going from the menu to the order table, there is only one menu for an order to be taken off of so the relationship is 1 to 1. For the relationship from the menu to the ingredients table it is 1 to many since the menu items can use from 1 to many ingredients for the items. The relationships from the transaction time to the ingredients table are both 1 to many since the ingredients can be influenced by 1 to 4 seasons depending on what they are. From ingredients to transaction time it’s also 1 to many since there can be many ingredients influenced by seasons.The tables and their attributes are described as follows. The ingredients table contains information on the cost of each ingredient and how much of that ingredient is left in the restaurant. The menu table will consist of the type of menu, an example would be breakfast, the cost of a meal, and the type of meal. The transaction time includes what time the order was taken, the season, and the particular day. The order table display shows how the order was taken, what was actually ordered, and the number of items. The employee table will tell their name, what their job is, how much they make, what shifts they work, and their employee ID.   "
      ]
    }
  ]
}