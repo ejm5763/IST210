{
  "nbformat": 4,
  "nbformat_minor": 0,
  "metadata": {
    "colab": {
      "name": "IST 210 - Final Group Project",
      "provenance": [],
      "collapsed_sections": []
    },
    "kernelspec": {
      "name": "python3",
      "display_name": "Python 3"
    }
  },
  "cells": [
    {
      "cell_type": "markdown",
      "metadata": {
        "id": "3NCg8LxwmL_b",
        "colab_type": "text"
      },
      "source": [
        "# Introduction"
      ]
    },
    {
      "cell_type": "markdown",
      "metadata": {
        "id": "JrxNRYELmSCp",
        "colab_type": "text"
      },
      "source": [
        "\n",
        "Our group decided to make an ER diagram on our idea of a fast food restaurant. As many people stop by for a quick bite or easy meal we thought it would be interesting to try to create and look at data and relationships in a common experience. We started by creating five tables to create the diagram. We chose to use Employee, Order, Menu, Ingredients, and Transactions. Each table has attributes that shape our data. For example, the Employee table has an EmployeeID (the primary key), first name, last name, wage, job type, and shift. We linked the tables together with different types of relationships such as one-to-one, one-to-many, zero-to-many, etc. depending on the best fit for the tables. For instance, the Employee table and the Order table are linked together to show that an Employee can take from 0 to 500 orders and it only takes 1 employee to make 1 order. After doing this for each of the five tables we essentially got to what our ER diagram looks like now. We also labeled foreign keys and primary keys for each table."
      ]
    },
    {
      "cell_type": "markdown",
      "metadata": {
        "id": "lO2HU5J6nxIa",
        "colab_type": "text"
      },
      "source": [
        "# ER Diagram"
      ]
    },
    {
      "cell_type": "markdown",
      "metadata": {
        "id": "tRcQhjjKlBG0",
        "colab_type": "text"
      },
      "source": [
        "![alt text](https://raw.githubusercontent.com/ejm5763/IST210/master/IST210%20Group%20Project%20Restaurant%20Data%20Model.jpg)"
      ]
    },
    {
      "cell_type": "markdown",
      "metadata": {
        "id": "69DZehGPmi4M",
        "colab_type": "text"
      },
      "source": [
        "# ER Diagram Specifics\n",
        "\n",
        "For our ER diagram our group used Employee, Order, Menu, Ingredients, and Transaction Time to be data to focus our tables around. For the Employee table the attributes are EmployeeID, First Name, Last Name, Wage, Job Type, and Shift. We linked this to the Order table with Employees being able to take 0 to 500 orders per shift and Orders to Employees as a 1-to-1 relationship since 1 order can be taken by 1 employee at a time. The order table’s attributes are OrderID, Number, Order Items, Order Type, and Number of Items. This table is also connected to the Menu and table through the Order Items attribute with a 0-to-Many relationship limiting orders to 20 items max. The menu table’s attributes are Menu Items ID, Menu Type, Meal Type, and Costs. Since some restaurants have food items available only during breakfast, we chose to have a menu type attribute. The meal type attribute is similar to how restaurants offer combo meals. The menu table is also connected to the Ingredients table which has Ingredient ID, Ingredient Cost, and Ingredient Inventory as attributes. The Ingredient Cost is a foreignn key linked to the Costs attribute of the Menu table since the cost it is for a restaurant to make a dish could influence the price on the menu. Finally the Transactions table is connected to both the Order and Ingredients tables. Its attributes are Order Time, Season, Day, and IDNumber. It’s connected to the Ingredients table using season since season can influence what ingredients are available."
      ]
    },
    {
      "cell_type": "markdown",
      "metadata": {
        "id": "LckKxQQpmtPl",
        "colab_type": "text"
      },
      "source": [
        " #Database Table Construction\n",
        "\n",
        "For our database we made some slight adjustments to get our ER diagram to where it is now. An example was we added a connection between Transactions and Order to be able to join tables and track when orders were made. We also edited our ER diagram to become First Normal Form. For instance we originally just had employee names as one attribute rather than split up but, we separated it into first and last names. Also another change we made was having to change the table name for Orders since SQL has statements similar to “Order” so we changed the table to CustomerOrder to be able to insert data."
      ]
    },
    {
      "cell_type": "markdown",
      "metadata": {
        "id": "ad1Q2-R6n8OX",
        "colab_type": "text"
      },
      "source": [
        "# New Code"
      ]
    },
    {
      "cell_type": "code",
      "metadata": {
        "id": "McLq5eqRpr8D",
        "colab_type": "code",
        "outputId": "c04e851b-6c28-42ea-d6db-e3c00f7a5232",
        "colab": {
          "base_uri": "https://localhost:8080/",
          "height": 68
        }
      },
      "source": [
        "%load_ext sql\n",
        "%sql sqlite:///restaurant.db"
      ],
      "execution_count": 258,
      "outputs": [
        {
          "output_type": "stream",
          "text": [
            "The sql extension is already loaded. To reload it, use:\n",
            "  %reload_ext sql\n"
          ],
          "name": "stdout"
        },
        {
          "output_type": "execute_result",
          "data": {
            "text/plain": [
              "'Connected: @restaurant.db'"
            ]
          },
          "metadata": {
            "tags": []
          },
          "execution_count": 258
        }
      ]
    },
    {
      "cell_type": "code",
      "metadata": {
        "id": "qRMgt2nkl2VK",
        "colab_type": "code",
        "outputId": "80b85908-9158-46c1-f14d-8b96ded655f1",
        "colab": {
          "base_uri": "https://localhost:8080/",
          "height": 221
        }
      },
      "source": [
        "%%sql\n",
        "DROP TABLE IF EXISTS Employee;\n",
        "CREATE TABLE Employee (EmployeeID text PRIMARY KEY, FirstName text, LastName text, Wage real, JobType text, Shift text);\n",
        "DROP TABLE IF EXISTS CustomerOrder;\n",
        "CREATE TABLE CustomerOrder (OrderIDNumber text PRIMARY KEY, OrderItems text, NumberoFItems integer);\n",
        "DROP TABLE IF EXISTS Menu;\n",
        "CREATE TABLE Menu (MenuItemsID text PRIMARY KEY, MenuType text, MealType text, Costs real);\n",
        "DROP TABLE IF EXISTS Ingredients;\n",
        "CREATE TABLE Ingredients (IngredientID text PRIMARY KEY, IngredientCost real, IngredientInventory integer);\n",
        "DROP TABLE IF EXISTS Transactions;\n",
        "CREATE TABLE Transactions (OrderTime text PRIMARY KEY, Season text, Day text, IDNumber text);"
      ],
      "execution_count": 259,
      "outputs": [
        {
          "output_type": "stream",
          "text": [
            " * sqlite:///restaurant.db\n",
            "Done.\n",
            "Done.\n",
            "Done.\n",
            "Done.\n",
            "Done.\n",
            "Done.\n",
            "Done.\n",
            "Done.\n",
            "Done.\n",
            "Done.\n"
          ],
          "name": "stdout"
        },
        {
          "output_type": "execute_result",
          "data": {
            "text/plain": [
              "[]"
            ]
          },
          "metadata": {
            "tags": []
          },
          "execution_count": 259
        }
      ]
    },
    {
      "cell_type": "code",
      "metadata": {
        "id": "m-RR_BxBqlk5",
        "colab_type": "code",
        "outputId": "129c277e-4b51-445d-b867-9b9f2b87e35d",
        "colab": {
          "base_uri": "https://localhost:8080/",
          "height": 289
        }
      },
      "source": [
        "%%sql\n",
        "insert into Employee values (\"12345\", \"John\", \"Doe\", 7.50, \"Cashier\", \"Morning\");\n",
        "insert into Employee values (\"45678\", \"Anthony\", \"Smith\", 9.00, \"Cook\", \"Morning\");\n",
        "insert into Employee values (\"36913\", \"Jane\", \"Doe\", 7.25, \"Cook\", \"Afternoon\");\n",
        "insert into Employee values (\"55901\", \"Susan\", \"Thomas\", 7.50, \"Cashier\", \"Afternoon\");\n",
        "insert into Employee values (\"88228\", \"Sally\", \"Smith\", 7.25, \"Cook\", \"Evening\");\n",
        "insert into Employee values (\"24680\", \"Michael\", \"Scott\", 9.00, \"Shift Manager\", \"Evening\");\n",
        "insert into Employee values (\"96822\", \"Jim\", \"Jay\", 7.25, \"Cook\", \"Morning\");\n",
        "insert into Employee values (\"58481\", \"Mark\", \"Peters\", 7.50, \"Cashier\", \"Morning\");\n",
        "insert into Employee values (\"10295\", \"Susan\", \"Roberts\", 7.25, \"Cook\", \"Morning\");\n",
        "insert into Employee values (\"25810\", \"Jacob\", \"Piper\", 6.45, \"Cook\", \"Morning\");\n",
        "insert into Employee values (\"10205\", \"Jessica\", \"Hoffman\", 9.00, \"Shift Manager\", \"Morning\");\n",
        "insert into Employee values (\"20591\", \"Rachel\", \"Ray\", 6.45, \"Cook\", \"Morning\");\n",
        "insert into Employee values (\"20511\", \"Ryan\", \"Ray\", 7.50, \"Cashier\", \"Morning\");\n",
        "insert into Employee values (\"23591\", \"Joseph\", \"Duncan\", 9.00, \"Shift Manager\", \"Morning\");"
      ],
      "execution_count": 260,
      "outputs": [
        {
          "output_type": "stream",
          "text": [
            " * sqlite:///restaurant.db\n",
            "1 rows affected.\n",
            "1 rows affected.\n",
            "1 rows affected.\n",
            "1 rows affected.\n",
            "1 rows affected.\n",
            "1 rows affected.\n",
            "1 rows affected.\n",
            "1 rows affected.\n",
            "1 rows affected.\n",
            "1 rows affected.\n",
            "1 rows affected.\n",
            "1 rows affected.\n",
            "1 rows affected.\n",
            "1 rows affected.\n"
          ],
          "name": "stdout"
        },
        {
          "output_type": "execute_result",
          "data": {
            "text/plain": [
              "[]"
            ]
          },
          "metadata": {
            "tags": []
          },
          "execution_count": 260
        }
      ]
    },
    {
      "cell_type": "code",
      "metadata": {
        "id": "VhSUyrUWqtSR",
        "colab_type": "code",
        "outputId": "aec5764a-441e-4cc3-e44b-bce915ab5523",
        "colab": {
          "base_uri": "https://localhost:8080/",
          "height": 136
        }
      },
      "source": [
        "%%sql\n",
        "insert into CustomerOrder values (\"72\", \"Burger, Fries, Coffee\", 3);\n",
        "insert into CustomerOrder values (\"73\", \"Sandwich, Water\", 2);\n",
        "insert into CustomerOrder values (\"74\", \"Fries\", 1);\n",
        "insert into CustomerOrder values (\"75\", \"Burger, Burger, Burger, Sandwich, Fries, Fries, Fries, Soda, Soda, Lemonade\", 10);\n",
        "insert into CustomerOrder values (\"76\", \"Chicken Nuggets, Fries\", 2);"
      ],
      "execution_count": 261,
      "outputs": [
        {
          "output_type": "stream",
          "text": [
            " * sqlite:///restaurant.db\n",
            "1 rows affected.\n",
            "1 rows affected.\n",
            "1 rows affected.\n",
            "1 rows affected.\n",
            "1 rows affected.\n"
          ],
          "name": "stdout"
        },
        {
          "output_type": "execute_result",
          "data": {
            "text/plain": [
              "[]"
            ]
          },
          "metadata": {
            "tags": []
          },
          "execution_count": 261
        }
      ]
    },
    {
      "cell_type": "code",
      "metadata": {
        "id": "UQ8WgaAXwEky",
        "colab_type": "code",
        "outputId": "15e14fee-ce72-4536-cd58-1177191ad61f",
        "colab": {
          "base_uri": "https://localhost:8080/",
          "height": 136
        }
      },
      "source": [
        "%%sql\n",
        "insert into Menu values (\"08\", \"Breakfast\", \"Combo\", 6.25);\n",
        "insert into Menu values (\"05\", \"Lunch\", \"Regular\", 7.50);\n",
        "insert into Menu values (\"01\", \"Lunch\", \"Regular\", 1.35);\n",
        "insert into Menu values (\"10\", \"Dinner\", \"Combo\", 9.35);\n",
        "insert into Menu values (\"03\", \"Dinner\", \"Combo\", 5.65);"
      ],
      "execution_count": 262,
      "outputs": [
        {
          "output_type": "stream",
          "text": [
            " * sqlite:///restaurant.db\n",
            "1 rows affected.\n",
            "1 rows affected.\n",
            "1 rows affected.\n",
            "1 rows affected.\n",
            "1 rows affected.\n"
          ],
          "name": "stdout"
        },
        {
          "output_type": "execute_result",
          "data": {
            "text/plain": [
              "[]"
            ]
          },
          "metadata": {
            "tags": []
          },
          "execution_count": 262
        }
      ]
    },
    {
      "cell_type": "code",
      "metadata": {
        "id": "TSpsgVsSqybR",
        "colab_type": "code",
        "outputId": "24ea7ca2-e844-4940-9e0b-9710f7b2f9e0",
        "colab": {
          "base_uri": "https://localhost:8080/",
          "height": 136
        }
      },
      "source": [
        "%%sql\n",
        "insert into Ingredients values (\"ON1ON\", 47.00, 19);\n",
        "insert into Ingredients values (\"B33F\", 71.90, 37 );\n",
        "insert into Ingredients values (\"T0M4T\", 58.52, 24);\n",
        "insert into Ingredients values (\"P0T4T\", 50.87, 20);\n",
        "insert into Ingredients values (\"CH1CK\", 61.26, 22);"
      ],
      "execution_count": 263,
      "outputs": [
        {
          "output_type": "stream",
          "text": [
            " * sqlite:///restaurant.db\n",
            "1 rows affected.\n",
            "1 rows affected.\n",
            "1 rows affected.\n",
            "1 rows affected.\n",
            "1 rows affected.\n"
          ],
          "name": "stdout"
        },
        {
          "output_type": "execute_result",
          "data": {
            "text/plain": [
              "[]"
            ]
          },
          "metadata": {
            "tags": []
          },
          "execution_count": 263
        }
      ]
    },
    {
      "cell_type": "code",
      "metadata": {
        "id": "LA4E6MWLtnpu",
        "colab_type": "code",
        "outputId": "4840a40b-a61d-4679-a082-390eb2f0b9a3",
        "colab": {
          "base_uri": "https://localhost:8080/",
          "height": 238
        }
      },
      "source": [
        "%%sql\n",
        "insert into Transactions values (\"07:35:01\", \"Winter\", \"Monday\", \"01\" );\n",
        "insert into Transactions values (\"12:25:20\", \"Summer\", \"Friday\", \" 70\");\n",
        "insert into Transactions values (\"13:12:31\", \"Summer\", \"Friday\", \"80\");\n",
        "insert into Transactions values (\"07:01:56\", \"Fall\", \"Wednesday\", \"10\");\n",
        "insert into Transactions values (\"18:14:21\", \"Fall\", \"Wednesday\", \"72\");\n",
        "insert into Transactions values (\"20:12:03\", \"Fall\", \"Wednesday\", \"73\");\n",
        "insert into Transactions values (\"17:24:01\", \"Fall\", \"Wednesday\",\"74\");\n",
        "insert into Transactions values (\"20:20:10\", \"Fall\", \"Wednesday\",\"75\");\n",
        "insert into Transactions values (\"19:20:02\", \"Fall\", \"Wednesday\",\"76\");\n",
        "insert into Transactions values (\"20:01:10\", \"Fall\", \"Thursday\", \"81\");\n",
        "insert into Transactions values (\"18:32:10\", \"Fall\", \"Friday\", \"99\");"
      ],
      "execution_count": 264,
      "outputs": [
        {
          "output_type": "stream",
          "text": [
            " * sqlite:///restaurant.db\n",
            "1 rows affected.\n",
            "1 rows affected.\n",
            "1 rows affected.\n",
            "1 rows affected.\n",
            "1 rows affected.\n",
            "1 rows affected.\n",
            "1 rows affected.\n",
            "1 rows affected.\n",
            "1 rows affected.\n",
            "1 rows affected.\n",
            "1 rows affected.\n"
          ],
          "name": "stdout"
        },
        {
          "output_type": "execute_result",
          "data": {
            "text/plain": [
              "[]"
            ]
          },
          "metadata": {
            "tags": []
          },
          "execution_count": 264
        }
      ]
    },
    {
      "cell_type": "markdown",
      "metadata": {
        "id": "eBXFlEKEzt_D",
        "colab_type": "text"
      },
      "source": [
        "#Scenario\n",
        "\n",
        "Karen Doe walks into the restaurant around 8PM on a Wednesday night after her soccer game and is starving. She wants to be in and out as fast as possible since she has school early tomorrow morning. She decides to order her usual post-game meal which is the dinner combo, a burger, fries, and soda. Usually there's a bit of a wait but this time she has been waiting for her food for the last hour and a half. It's pretty crowded but its supposed to be a fast food restaurant, right? Just as Sally is about to storm out her order number is called and she takes her food from an employee who looks extremely busy and stressed. Hangrily she snatches her food and leaves, pulling out her phone to leave a 1 Star Yelp review. \n"
      ]
    },
    {
      "cell_type": "markdown",
      "metadata": {
        "id": "9pxVLrl0zxsP",
        "colab_type": "text"
      },
      "source": [
        "#Queries"
      ]
    },
    {
      "cell_type": "markdown",
      "metadata": {
        "id": "ZRP15O6qUufK",
        "colab_type": "text"
      },
      "source": [
        "1. All starting employees start with a wage lower than 7.00 and must receive training. Are there any new employees and what training do they need according to their job?\n",
        "\n",
        "Answer: Jacob Piper and Rachel Ray are new employees. A restaurant owner could use this information to determine which employees need training outside of work to make working during shifts more efficient."
      ]
    },
    {
      "cell_type": "code",
      "metadata": {
        "id": "NqOYl1YgUtbU",
        "colab_type": "code",
        "colab": {
          "base_uri": "https://localhost:8080/",
          "height": 116
        },
        "outputId": "f72cd58c-5a36-43ff-9c12-62f221709ef5"
      },
      "source": [
        "%%sql\n",
        "Select * from Employee WHERE Wage < 7.00"
      ],
      "execution_count": 265,
      "outputs": [
        {
          "output_type": "stream",
          "text": [
            " * sqlite:///restaurant.db\n",
            "Done.\n"
          ],
          "name": "stdout"
        },
        {
          "output_type": "execute_result",
          "data": {
            "text/html": [
              "<table>\n",
              "    <tr>\n",
              "        <th>EmployeeID</th>\n",
              "        <th>FirstName</th>\n",
              "        <th>LastName</th>\n",
              "        <th>Wage</th>\n",
              "        <th>JobType</th>\n",
              "        <th>Shift</th>\n",
              "    </tr>\n",
              "    <tr>\n",
              "        <td>25810</td>\n",
              "        <td>Jacob</td>\n",
              "        <td>Piper</td>\n",
              "        <td>6.45</td>\n",
              "        <td>Cook</td>\n",
              "        <td>Morning</td>\n",
              "    </tr>\n",
              "    <tr>\n",
              "        <td>20591</td>\n",
              "        <td>Rachel</td>\n",
              "        <td>Ray</td>\n",
              "        <td>6.45</td>\n",
              "        <td>Cook</td>\n",
              "        <td>Morning</td>\n",
              "    </tr>\n",
              "</table>"
            ],
            "text/plain": [
              "[('25810', 'Jacob', 'Piper', 6.45, 'Cook', 'Morning'),\n",
              " ('20591', 'Rachel', 'Ray', 6.45, 'Cook', 'Morning')]"
            ]
          },
          "metadata": {
            "tags": []
          },
          "execution_count": 265
        }
      ]
    },
    {
      "cell_type": "markdown",
      "metadata": {
        "id": "A1m8Lb139I4P",
        "colab_type": "text"
      },
      "source": [
        "2. The last scheduling manager quit angrily and messed up all of the schedules. Now the employees for the dinner shift have been complaining about being spread too thin during their shift. Which shift has too many employees working at one time and which employees can be moved without losing efficiency in shifts? (There should be 1 shift manager, at least 1 cashier, and at least 2 cooks per shift.)\n",
        "\n",
        "Answer: The morning shift is overbooked. One option would be for Anthony Smith and Jessica Hoffman moved to the afternoon shift and Jim Jay and John Doe could be moved to the evening shift. This would be useful information for the employer so they can fix the schedule and see why the dinner employees were stressed."
      ]
    },
    {
      "cell_type": "code",
      "metadata": {
        "id": "jCzUtkJx9WcS",
        "colab_type": "code",
        "outputId": "361829dd-c136-44d8-9a67-aad8cddac760",
        "colab": {
          "base_uri": "https://localhost:8080/",
          "height": 368
        }
      },
      "source": [
        "%%sql\n",
        "Select shift, FirstName, LastName, JobType from Employee ORDER BY Shift"
      ],
      "execution_count": 266,
      "outputs": [
        {
          "output_type": "stream",
          "text": [
            " * sqlite:///restaurant.db\n",
            "Done.\n"
          ],
          "name": "stdout"
        },
        {
          "output_type": "execute_result",
          "data": {
            "text/html": [
              "<table>\n",
              "    <tr>\n",
              "        <th>Shift</th>\n",
              "        <th>FirstName</th>\n",
              "        <th>LastName</th>\n",
              "        <th>JobType</th>\n",
              "    </tr>\n",
              "    <tr>\n",
              "        <td>Afternoon</td>\n",
              "        <td>Jane</td>\n",
              "        <td>Doe</td>\n",
              "        <td>Cook</td>\n",
              "    </tr>\n",
              "    <tr>\n",
              "        <td>Afternoon</td>\n",
              "        <td>Susan</td>\n",
              "        <td>Thomas</td>\n",
              "        <td>Cashier</td>\n",
              "    </tr>\n",
              "    <tr>\n",
              "        <td>Evening</td>\n",
              "        <td>Sally</td>\n",
              "        <td>Smith</td>\n",
              "        <td>Cook</td>\n",
              "    </tr>\n",
              "    <tr>\n",
              "        <td>Evening</td>\n",
              "        <td>Michael</td>\n",
              "        <td>Scott</td>\n",
              "        <td>Shift Manager</td>\n",
              "    </tr>\n",
              "    <tr>\n",
              "        <td>Morning</td>\n",
              "        <td>John</td>\n",
              "        <td>Doe</td>\n",
              "        <td>Cashier</td>\n",
              "    </tr>\n",
              "    <tr>\n",
              "        <td>Morning</td>\n",
              "        <td>Anthony</td>\n",
              "        <td>Smith</td>\n",
              "        <td>Cook</td>\n",
              "    </tr>\n",
              "    <tr>\n",
              "        <td>Morning</td>\n",
              "        <td>Jim</td>\n",
              "        <td>Jay</td>\n",
              "        <td>Cook</td>\n",
              "    </tr>\n",
              "    <tr>\n",
              "        <td>Morning</td>\n",
              "        <td>Mark</td>\n",
              "        <td>Peters</td>\n",
              "        <td>Cashier</td>\n",
              "    </tr>\n",
              "    <tr>\n",
              "        <td>Morning</td>\n",
              "        <td>Susan</td>\n",
              "        <td>Roberts</td>\n",
              "        <td>Cook</td>\n",
              "    </tr>\n",
              "    <tr>\n",
              "        <td>Morning</td>\n",
              "        <td>Jacob</td>\n",
              "        <td>Piper</td>\n",
              "        <td>Cook</td>\n",
              "    </tr>\n",
              "    <tr>\n",
              "        <td>Morning</td>\n",
              "        <td>Jessica</td>\n",
              "        <td>Hoffman</td>\n",
              "        <td>Shift Manager</td>\n",
              "    </tr>\n",
              "    <tr>\n",
              "        <td>Morning</td>\n",
              "        <td>Rachel</td>\n",
              "        <td>Ray</td>\n",
              "        <td>Cook</td>\n",
              "    </tr>\n",
              "    <tr>\n",
              "        <td>Morning</td>\n",
              "        <td>Ryan</td>\n",
              "        <td>Ray</td>\n",
              "        <td>Cashier</td>\n",
              "    </tr>\n",
              "    <tr>\n",
              "        <td>Morning</td>\n",
              "        <td>Joseph</td>\n",
              "        <td>Duncan</td>\n",
              "        <td>Shift Manager</td>\n",
              "    </tr>\n",
              "</table>"
            ],
            "text/plain": [
              "[('Afternoon', 'Jane', 'Doe', 'Cook'),\n",
              " ('Afternoon', 'Susan', 'Thomas', 'Cashier'),\n",
              " ('Evening', 'Sally', 'Smith', 'Cook'),\n",
              " ('Evening', 'Michael', 'Scott', 'Shift Manager'),\n",
              " ('Morning', 'John', 'Doe', 'Cashier'),\n",
              " ('Morning', 'Anthony', 'Smith', 'Cook'),\n",
              " ('Morning', 'Jim', 'Jay', 'Cook'),\n",
              " ('Morning', 'Mark', 'Peters', 'Cashier'),\n",
              " ('Morning', 'Susan', 'Roberts', 'Cook'),\n",
              " ('Morning', 'Jacob', 'Piper', 'Cook'),\n",
              " ('Morning', 'Jessica', 'Hoffman', 'Shift Manager'),\n",
              " ('Morning', 'Rachel', 'Ray', 'Cook'),\n",
              " ('Morning', 'Ryan', 'Ray', 'Cashier'),\n",
              " ('Morning', 'Joseph', 'Duncan', 'Shift Manager')]"
            ]
          },
          "metadata": {
            "tags": []
          },
          "execution_count": 266
        }
      ]
    },
    {
      "cell_type": "markdown",
      "metadata": {
        "id": "wE2Iv-fbBdAH",
        "colab_type": "text"
      },
      "source": [
        "3. The dinner shift starts at 5PM. Which items are bought most often during Wednesday, the busiest dinner shift?\n",
        "\n",
        "Answer: Burgers, Fries, and Sodas are the most commonly bought items. This could be  useful for restaurant owners to make sure that they have enough ingredients in stock to keep up with the busy shift. This also could be useful for customers like Karen in case she wants to order something that isn't being bought at a high rate that night."
      ]
    },
    {
      "cell_type": "code",
      "metadata": {
        "id": "S-d5LGRCVZhw",
        "colab_type": "code",
        "colab": {
          "base_uri": "https://localhost:8080/",
          "height": 179
        },
        "outputId": "0d9e9d73-413a-412d-e771-6d41820356b2"
      },
      "source": [
        "%%sql\n",
        "Select * from CustomerOrder c LEFT JOIN Transactions t ON c.OrderIDNumber = t.IDNumber WHERE OrderTime > \"17:00:00\""
      ],
      "execution_count": 267,
      "outputs": [
        {
          "output_type": "stream",
          "text": [
            " * sqlite:///restaurant.db\n",
            "Done.\n"
          ],
          "name": "stdout"
        },
        {
          "output_type": "execute_result",
          "data": {
            "text/html": [
              "<table>\n",
              "    <tr>\n",
              "        <th>OrderIDNumber</th>\n",
              "        <th>OrderItems</th>\n",
              "        <th>NumberoFItems</th>\n",
              "        <th>OrderTime</th>\n",
              "        <th>Season</th>\n",
              "        <th>Day</th>\n",
              "        <th>IDNumber</th>\n",
              "    </tr>\n",
              "    <tr>\n",
              "        <td>72</td>\n",
              "        <td>Burger, Fries, Coffee</td>\n",
              "        <td>3</td>\n",
              "        <td>18:14:21</td>\n",
              "        <td>Fall</td>\n",
              "        <td>Wednesday</td>\n",
              "        <td>72</td>\n",
              "    </tr>\n",
              "    <tr>\n",
              "        <td>73</td>\n",
              "        <td>Sandwich, Water</td>\n",
              "        <td>2</td>\n",
              "        <td>20:12:03</td>\n",
              "        <td>Fall</td>\n",
              "        <td>Wednesday</td>\n",
              "        <td>73</td>\n",
              "    </tr>\n",
              "    <tr>\n",
              "        <td>74</td>\n",
              "        <td>Fries</td>\n",
              "        <td>1</td>\n",
              "        <td>17:24:01</td>\n",
              "        <td>Fall</td>\n",
              "        <td>Wednesday</td>\n",
              "        <td>74</td>\n",
              "    </tr>\n",
              "    <tr>\n",
              "        <td>75</td>\n",
              "        <td>Burger, Burger, Burger, Sandwich, Fries, Fries, Fries, Soda, Soda, Lemonade</td>\n",
              "        <td>10</td>\n",
              "        <td>20:20:10</td>\n",
              "        <td>Fall</td>\n",
              "        <td>Wednesday</td>\n",
              "        <td>75</td>\n",
              "    </tr>\n",
              "    <tr>\n",
              "        <td>76</td>\n",
              "        <td>Chicken Nuggets, Fries</td>\n",
              "        <td>2</td>\n",
              "        <td>19:20:02</td>\n",
              "        <td>Fall</td>\n",
              "        <td>Wednesday</td>\n",
              "        <td>76</td>\n",
              "    </tr>\n",
              "</table>"
            ],
            "text/plain": [
              "[('72', 'Burger, Fries, Coffee', 3, '18:14:21', 'Fall', 'Wednesday', '72'),\n",
              " ('73', 'Sandwich, Water', 2, '20:12:03', 'Fall', 'Wednesday', '73'),\n",
              " ('74', 'Fries', 1, '17:24:01', 'Fall', 'Wednesday', '74'),\n",
              " ('75', 'Burger, Burger, Burger, Sandwich, Fries, Fries, Fries, Soda, Soda, Lemonade', 10, '20:20:10', 'Fall', 'Wednesday', '75'),\n",
              " ('76', 'Chicken Nuggets, Fries', 2, '19:20:02', 'Fall', 'Wednesday', '76')]"
            ]
          },
          "metadata": {
            "tags": []
          },
          "execution_count": 267
        }
      ]
    }
  ]
}
